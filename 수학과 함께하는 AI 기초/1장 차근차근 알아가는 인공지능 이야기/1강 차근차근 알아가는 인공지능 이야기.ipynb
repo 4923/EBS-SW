{
 "metadata": {
  "language_info": {
   "codemirror_mode": {
    "name": "ipython",
    "version": 3
   },
   "file_extension": ".py",
   "mimetype": "text/x-python",
   "name": "python",
   "nbconvert_exporter": "python",
   "pygments_lexer": "ipython3",
   "version": 3
  },
  "orig_nbformat": 2
 },
 "nbformat": 4,
 "nbformat_minor": 2,
 "cells": [
  {
   "source": [
    "### 머신러닝이란?\n",
    "\n",
    "컴퓨터가 스스로 방대한 데이터를 분석하여 미래를 예측하는 기술\n",
    "\n",
    "### 머신러닝의 방법\n",
    "\n",
    "* 지도학습 : 데이터가 답과 함께 들어옴\n",
    "* 비지도학습 : 답이 없는 데이터가 들어옴\n",
    "* 강화학습 : 보상으로 학습"
   ],
   "cell_type": "markdown",
   "metadata": {}
  },
  {
   "source": [
    "#### 머신러닝의 방법: 지도학습\n",
    "\n",
    "지도학습에서 '답'을 label 이라고 한다.\n",
    "\n",
    "예) 고양이와 개 분류하기\n",
    "\n",
    "고양이 이미지와 개 이미지에 각각 레이블을 붙여 학습시킨 후 임의의 이미지를 주어 고양이인지 개인지 판단하게 한다"
   ],
   "cell_type": "markdown",
   "metadata": {}
  },
  {
   "source": [
    "### 딥러닝\n",
    "\n",
    "#### 인공신경망?\n",
    "뉴런의 작동원리를 수학적으로 추상화해 모델링\n",
    "\n",
    "* 초기형태: 퍼셉트론\n",
    "\n",
    "    퍼셉트론은 입력층과 출력층으로 구성됨\n",
    "\n",
    "* 발전된 형태: 다층 퍼셉트론\n",
    "\n",
    "    입력층 - 은닉층 - 출력층\n",
    "\n",
    "* 심층신경망?\n",
    "\n",
    "    입력층과 출력층 사이에 수많은 은닉층을 만든 모델\n"
   ],
   "cell_type": "markdown",
   "metadata": {}
  },
  {
   "source": [
    "#### 인공지능 기술 예시\n",
    "\n",
    "* 맞춤 추천 서비스\n",
    "* Visual Question Answering (VQA)<br>\n",
    "    사진을 올리면 질문에 답하는 인공지능<br>\n",
    "    비오는 사진 또는 우산 사진을 올리고 날씨가 어떤지 물어보면 비가 온다고 답함\n",
    "* Deep dream Generator<br>\n",
    "    사진을 올리면 특정 화가의 화풍으로 사진을 바꿔줌\n",
    "* 영어 문법 자동 교정 프로그램"
   ],
   "cell_type": "markdown",
   "metadata": {}
  }
 ]
}