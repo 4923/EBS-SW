{
 "metadata": {
  "language_info": {
   "codemirror_mode": {
    "name": "ipython",
    "version": 3
   },
   "file_extension": ".py",
   "mimetype": "text/x-python",
   "name": "python",
   "nbconvert_exporter": "python",
   "pygments_lexer": "ipython3",
   "version": 3
  },
  "orig_nbformat": 2
 },
 "nbformat": 4,
 "nbformat_minor": 2,
 "cells": [
  {
   "source": [
    "`AI와 수학의 연관성? : 문제를 단순화 하는 과정을 컴퓨터에게 알려주는 것`"
   ],
   "cell_type": "markdown",
   "metadata": {}
  },
  {
   "source": [
    "## 1. 알고리즘과 순서도"
   ],
   "cell_type": "markdown",
   "metadata": {}
  },
  {
   "source": [
    "#### 알고리즘 Algorithm 이란?\n",
    "\n",
    "문제해결을 위한 처리순서\n",
    "\n",
    "#### 순서도\n",
    "\n",
    "알고리즘을 기호로 도식화한 결과"
   ],
   "cell_type": "markdown",
   "metadata": {}
  },
  {
   "source": [
    "## 2. 명제와 조건"
   ],
   "cell_type": "markdown",
   "metadata": {}
  },
  {
   "source": [
    "### 명제\n",
    "\n",
    "**참 거짓**을 판별할 수 있는 문장 또는 식.\n",
    "\n",
    "### 명제의 부정\n",
    "\n",
    "어떤 명제 P에 대하여 **'P가 아니다'**\n",
    "\n",
    "기호: ~P (not P)\n",
    "\n",
    "<hr>\n",
    "\n",
    "### 조건과 진리집합\n",
    "\n",
    "**예시**\n",
    "\n",
    "p: X는 10보다 작은 소수이다.\n",
    "q: X는 6의 약수이다.\n",
    "\n",
    "* p이면 q일때 p를 조건이라고 한다.\n",
    "\n",
    "p는 2 3 5 7 이고 q는 1 2 3 6 이므로 p가 2 또는 3일때 p이면 q인 명제가 참이 된다.\n",
    "\n",
    "#### $\\therefore$ 진리집합\n",
    "\n",
    "부분적으로 참일 때 명제를 참으로 만드는 X의 집합.\n",
    "\n",
    "<hr>\n",
    "\n",
    "### 논리곱과 논리합\n",
    "\n",
    "조건이 p이고 결과가 q일때\n",
    "\n",
    "#### 논리곱\n",
    "\n",
    "* 기호 $\\wedge$\n",
    "\n",
    "p or q : p나 q 둘 중 하나만 참\n",
    "\n",
    "#### 논리합\n",
    "\n",
    "* 기호 $\\lor$\n",
    "\n",
    "p and q : p와 q 모두 참\n",
    "\n",
    "#### 진리표\n",
    "\n",
    "가능한 경우를 모두 표로 정리하는 것\n"
   ],
   "cell_type": "markdown",
   "metadata": {}
  },
  {
   "source": [
    "**예시**\n",
    "\n",
    "다음 두 명제의 논리합을 말하고 그 진리값을 구해보자\n",
    "\n",
    "    p : 114는 4의 배수이다.\n",
    "    q : 115는 3의 약수이다.\n",
    "\n",
    "**풀이**\n",
    "\n",
    "논리합 ($\\lor$)는 or 이므로 p 또는 q 둘 중 하나만 참이면 참.\n",
    "\n",
    "114는 4의 배수이거나 115는 3의 배수이다.\n",
    "\n",
    "$\\therefore$ 위 명제 p는 거짓 F이고 q도 거짓 F이므로 진리값은 F다."
   ],
   "cell_type": "markdown",
   "metadata": {}
  },
  {
   "source": [
    "## 3. 수열"
   ],
   "cell_type": "markdown",
   "metadata": {}
  },
  {
   "source": [
    "### 수열\n",
    "\n",
    "수의 나열이며 나열된 각각의 수를 그 수열의 항이라고 한다.\n",
    "\n",
    "### 일반항\n",
    "\n",
    "수열의 n번째 항 $ a_{n} $ 을 표현하는 방법\n",
    "\n",
    "**예시**\n",
    "\n",
    "2, 4, 6, 8, 10 ... 일 때 n번째 항을 구하여라: $a_{n}$ = 2n\n",
    "\n",
    "<hr>\n",
    "\n",
    "### 합의 기호 $\\sum$\n",
    "\n",
    "수열의 합을 구할 때 사용한다.\n",
    "\n",
    "$$ \\sum_{n=start}^{end} n$$\n",
    "(이 때 n은 일반항)\n",
    "\n",
    "**예시**\n",
    "\n",
    "1부터 100까지 합하여라: $\\sum_{n=1}^{100} n$\n",
    "\n",
    "#### $\\sum$의 성질\n",
    "\n",
    "1. $\\sum_{k=1}^{n}(a_{k}+b_{k}) = \\sum_{k=1}^{n}a_{k} + \\sum_{k=1}^{n}b_{k}$\n",
    "2. $\\sum_{k=1}^{n}(a_{k}-b_{k}) = \\sum_{k=1}^{n}a_{k} - \\sum_{k=1}^{n}b_{k}$\n",
    "3. $\\sum_{k=1}^{n}ca_{k} = c \\sum_{k=1}^{n}a_{k}$\n",
    "(단, c는 상수)\n",
    "4. $\\sum_{k=1}^{n}c = cn$\n",
    "(단, c는 상수)"
   ],
   "cell_type": "markdown",
   "metadata": {}
  }
 ]
}