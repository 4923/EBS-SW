{
 "metadata": {
  "language_info": {
   "codemirror_mode": {
    "name": "ipython",
    "version": 3
   },
   "file_extension": ".py",
   "mimetype": "text/x-python",
   "name": "python",
   "nbconvert_exporter": "python",
   "pygments_lexer": "ipython3",
   "version": "3.8.3-final"
  },
  "orig_nbformat": 2,
  "kernelspec": {
   "name": "python3",
   "display_name": "Python 3",
   "language": "python"
  }
 },
 "nbformat": 4,
 "nbformat_minor": 2,
 "cells": [
  {
   "source": [
    "### 복습\n",
    "\n",
    "이미지 데이터는 `행렬`으로 컴퓨터 내부에 저장되고 이 때 `Numpy`라는 라이브러리가 사용된다. 이를 시각화 할 때 파이썬의 시각화 라이브러리인 `turtle`을 사용했다."
   ],
   "cell_type": "markdown",
   "metadata": {}
  },
  {
   "source": [
    "### RGB\n",
    "* 빛의 삼원색 Red Green Blue.\n",
    "* RGB 각각에 1Byte를 할당한다.\n",
    "    * 1Byte = 8Bit = 0~255\n",
    "    * 0~255까지의 정수로 색의 강도를 설정한다.\n",
    "* R G B 모두 최고값을 가지면 White가 생성된다.\n",
    "* 가상혼합: RGB를 혼합해서 새로운 색을 만드는 것\n"
   ],
   "cell_type": "markdown",
   "metadata": {}
  },
  {
   "source": [
    "### Pil, Pillow\n",
    "\n",
    "* 파이썬에서는 이미지를 다룰 수 있는 Pil 라이브러리를 제공한다.\n",
    "* Pil은 사용하기 까다롭기 때문에 Pillow를 많이 사용한다.\n",
    "\n",
    "* Pillow 설치\n",
    "    * CMd에서 `pip install pillow`\n"
   ],
   "cell_type": "markdown",
   "metadata": {}
  },
  {
   "cell_type": "code",
   "execution_count": 20,
   "metadata": {},
   "outputs": [
    {
     "output_type": "stream",
     "name": "stdout",
     "text": [
      "(1440, 810)\nJPEG\nRGB\n"
     ]
    }
   ],
   "source": [
    "import PIL.Image as pilimg\n",
    "\n",
    "data = '2_실습파일(2-2-3_이미지데이터다루기)/jeju_summer.jpg'\n",
    "\n",
    "# 이미지 열기: pilimg.open(경로)\n",
    "# image = pilimg.open(data)\n",
    "\n",
    "# 이미지 크기 출력: print(변수명.size)\n",
    "print(image.size)   # (1440, 810)\n",
    "\n",
    "# 이미지 포맷 출력: print(변수명.format)\n",
    "print(image.format)\n",
    "\n",
    "# 이미지 모듈: print(변수명.mode)\n",
    "print(image.mode)\n",
    "\n",
    "# PNG로 이미지 저장하기: .save('파일명')\n",
    "# image.save('2_실습파일(2-2-3_이미지데이터다루기)/jeju_summer.png')\n",
    "\n",
    "# 이미지 보이기\n",
    "# image.show()\n",
    "\n",
    "# 이미지 크기 변경: .resize((가로, 세로))\n",
    "out = image.resize((128,128))\n",
    "# out.show()\n",
    "\n",
    "# 이미지 회전: .rotate(각도)\n",
    "out = image.rotate(45)\n",
    "# out.show()"
   ]
  },
  {
   "source": [],
   "cell_type": "markdown",
   "metadata": {}
  }
 ]
}