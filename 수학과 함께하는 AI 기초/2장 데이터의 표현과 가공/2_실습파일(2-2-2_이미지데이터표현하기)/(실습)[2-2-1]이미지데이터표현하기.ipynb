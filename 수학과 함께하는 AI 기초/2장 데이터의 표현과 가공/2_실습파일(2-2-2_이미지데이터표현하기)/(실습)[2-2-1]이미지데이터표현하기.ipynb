{
 "metadata": {
  "language_info": {
   "codemirror_mode": {
    "name": "ipython",
    "version": 3
   },
   "file_extension": ".py",
   "mimetype": "text/x-python",
   "name": "python",
   "nbconvert_exporter": "python",
   "pygments_lexer": "ipython3",
   "version": "3.8.3-final"
  },
  "orig_nbformat": 2,
  "kernelspec": {
   "name": "python3",
   "display_name": "Python 3",
   "language": "python"
  }
 },
 "nbformat": 4,
 "nbformat_minor": 2,
 "cells": [
  {
   "source": [
    "### 픽셀\n",
    "\n",
    "이미지 데이터를 컴퓨터 내부에 저장하는 요소\n",
    "* Picture Element의 줄임말\n",
    "* 이미지의 최소 해상도 단위 (화소)\n",
    "* 네모칸이 이미지의 색 정보를 **수 형태**로 담고 있음"
   ],
   "cell_type": "markdown",
   "metadata": {}
  },
  {
   "source": [
    "### 비트맵 이미지\n",
    "\n",
    "* 화소 단위로 이미지를 저장한 것\n",
    "* 확장자: `bmp` `gif` `jpeg`\n",
    "* 장단점\n",
    "    * 사실적인 묘사가 가능\n",
    "    * 고해상도 이미지의 용량 문제\n",
    "    * 확대하면 각진형태 (픽셀)이 두드러져 보임"
   ],
   "cell_type": "markdown",
   "metadata": {}
  },
  {
   "source": [
    "# [NumPy](www.numpy.org)\n",
    "\n",
    "* 이미지를 연산할 때 사용되는 **라이브러리**\n",
    "* Numpy는 사각형, 차원의 정보를 다루기 때문에 **다차원 행렬**을 다룰 때 용이함\n",
    "* **덧셈과 뺄셈** 연산자로 행렬의 연산을 수행 할 수 있음\n",
    "\n"
   ],
   "cell_type": "markdown",
   "metadata": {}
  },
  {
   "source": [
    "### Numpy: 사용방법\n",
    "\n",
    "* import `라이브러리` as `별칭`\n",
    "\n",
    "    * `import numpy as np`\n",
    "\n",
    "* 배열 정의\n",
    "\n",
    "    * `np.array()`\n",
    "\n",
    "* 배열 출력\n",
    "\n",
    "    * `print()`\n",
    "\n",
    "* 배열의 모양 출력\n",
    "    * `print(array.shape)`\n",
    "    * 예) 1행 3열 배열일 경우 출력값: (3,)\n",
    "\n",
    "* 배열의 차원 출력\n",
    "    * 차원: 몇 가지 정보에 대해서 해당 정보를 출력 할 수 있는가?\n",
    "    * `print(array.ndim)`\n",
    "    * number dimension\n"
   ],
   "cell_type": "markdown",
   "metadata": {}
  },
  {
   "cell_type": "code",
   "execution_count": 14,
   "metadata": {},
   "outputs": [
    {
     "output_type": "stream",
     "name": "stdout",
     "text": [
      "[1 2 3]\n(3,)\n1\n"
     ]
    }
   ],
   "source": [
    "import numpy as np\n",
    "\n",
    "# 일차원 배열\n",
    "arr = np.array([1,2,3])\n",
    "print(arr)  # [1 2 3]\n",
    "print(arr.shape)  # (3,)\n",
    "print(arr.ndim)  # 1\n"
   ]
  },
  {
   "source": [
    "### Numpy: 행렬의 연산\n",
    "\n"
   ],
   "cell_type": "markdown",
   "metadata": {}
  },
  {
   "cell_type": "code",
   "execution_count": 18,
   "metadata": {},
   "outputs": [
    {
     "output_type": "stream",
     "name": "stdout",
     "text": [
      "[[ 2  4  6]\n [ 8 10 12]]\n(2, 3)\n2\n[[0.5 1.  1.5]\n [2.  2.5 3. ]]\n(2, 3)\n2\n"
     ]
    }
   ],
   "source": [
    "a = np.array([\n",
    "    [1,2,3],\n",
    "    [4,5,6]\n",
    "])\n",
    "\n",
    "b = np.array([\n",
    "    [1,2,3],\n",
    "    [4,5,6]\n",
    "])\n",
    "\n",
    "# 합차\n",
    "sum_ab = a + b\n",
    "print(sum_ab)   # 행렬 출력\n",
    "print(sum_ab.shape) # 행렬 개수\n",
    "print(sum_ab.ndim)  # 차원 개수\n",
    "\n",
    "# 실수배\n",
    "div_ab = 0.5 * a\n",
    "print(div_ab)\n",
    "print(div_ab.shape)\n",
    "print(div_ab.ndim)"
   ]
  },
  {
   "source": [
    "# 터틀 그래픽\n",
    "\n",
    "가상의 거북을 원하는대로 움직이며 복잡한 모양을 만드는 간단한 프로그래밍 툴\n",
    "\n",
    "실제 저장된 행렬을 시각화하기 위해 사용한다"
   ],
   "cell_type": "markdown",
   "metadata": {}
  },
  {
   "source": [
    "### turtle: 사용방법\n",
    "\n",
    "\n",
    "* `import turtle`\n",
    "    * 파이썬에 포함되어있지만 모듈을 사용하기 위해선 import 필요\n",
    "* 색 지정\n",
    "    * 첫번째 인자는 선의 색, 두번째 인자는 채우기 색\n",
    "    * `turtle.color(\"black\", \"red\")`\n",
    "* 원 그리기\n",
    "    * `turtle.circle(80, steps= 4)`\n",
    "        * 80: 반지름 길이\n",
    "        * 4: 네번만에 그려라\n",
    "* 채우기 시작, 끝\n",
    "    * `turtle.begin_fill()`\n",
    "    * `turtle.end_fill()`\n",
    "\n",
    "* turtle의 방향\n",
    "    * `turtle.setheading(90)`\n",
    "        * turtle의 방향을 반시계 방향을 90도 이동\n",
    "    * `turtle.heading`\n",
    "        * 현재 turtle의 방향. print와 함께 사용\n",
    "\n",
    "* turtle을 특정 좌표로 이동하기\n",
    "    * `turtle.goto(200, 0)`\n",
    "        * 1사분면 200, 0으로 이동\n",
    "\n",
    "* turtle이 펜을 들어 자취를 남기지 않게 하기\n",
    "    * `turtle.penup()`"
   ],
   "cell_type": "markdown",
   "metadata": {}
  },
  {
   "cell_type": "code",
   "execution_count": 48,
   "metadata": {},
   "outputs": [],
   "source": [
    "import turtle\n",
    "\n",
    "turtle.color(\"black\", \"red\")\n",
    "turtle.begin_fill()\n",
    "turtle.circle(80)\n",
    "turtle.circle(80, steps =4)\n",
    "turtle.end_fill()"
   ]
  },
  {
   "cell_type": "code",
   "execution_count": 49,
   "metadata": {},
   "outputs": [
    {
     "output_type": "stream",
     "name": "stdout",
     "text": [
      "90.0\n"
     ]
    }
   ],
   "source": [
    "turtle.setheading(90)\n",
    "print(turtle.heading()) # 90.0"
   ]
  },
  {
   "cell_type": "code",
   "execution_count": 50,
   "metadata": {},
   "outputs": [],
   "source": [
    "turtle.goto(200, 0)"
   ]
  },
  {
   "cell_type": "code",
   "execution_count": 51,
   "metadata": {},
   "outputs": [],
   "source": [
    "turtle.penup()\n",
    "turtle.goto(-200,0)"
   ]
  },
  {
   "cell_type": "code",
   "execution_count": 52,
   "metadata": {},
   "outputs": [],
   "source": [
    "turtle.getscreen()._root.mainloop()\n",
    "\n",
    "# turtle 프로그램의 실행을 보장\n",
    "# 위 명령어를 마지막에 사용하여 프로그램을 제대로 종료 할 것"
   ]
  }
 ]
}